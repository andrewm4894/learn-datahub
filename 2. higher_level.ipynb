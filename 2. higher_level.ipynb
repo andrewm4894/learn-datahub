{
 "cells": [
  {
   "cell_type": "markdown",
   "metadata": {},
   "source": [
    "### Higher Level Class\n",
    "\n",
    "Here we will use our own `DatahubEntityEmitter` class to give us some higher level abstractions and less low level boiler plate code to worry about."
   ]
  },
  {
   "cell_type": "code",
   "execution_count": 2,
   "metadata": {},
   "outputs": [],
   "source": [
    "import os\n",
    "from dotenv import load_dotenv\n",
    "load_dotenv()\n",
    "from helpers.emitters import DatahubEntityEmitter\n",
    "\n",
    "# get some env vars\n",
    "datashub_gms_server = os.getenv('DATAHUB_GMS_SERVER', '')\n",
    "datahub_token = os.getenv('DATAHUB_TOKEN', '')\n",
    "datahub_actor = os.getenv('DATAHUB_ACTOR', 'urn:li:corpuser:admin')\n",
    "\n",
    "# create emitter\n",
    "emitter = DatahubEntityEmitter(\n",
    "    gms_server=datashub_gms_server, \n",
    "    token=datahub_token, \n",
    "    extra_headers={'X-DataHub-Actor': datahub_actor},\n",
    "    datahub_actor = datahub_actor\n",
    ")\n",
    "\n",
    "# update glossary term\n",
    "emitter.update_glossary_term(\n",
    "    name='TODO',\n",
    "    definition='TODO'\n",
    ")\n",
    "\n",
    "# update user\n",
    "emitter.update_user(\n",
    "    name='foo',\n",
    "    email='foo@fake.com'\n",
    ")\n",
    "\n",
    "# update tag\n",
    "emitter.update_tag(\n",
    "    name='foo',\n",
    "    description='foobar'\n",
    ")\n",
    "\n",
    "# update dataset\n",
    "emitter.update_dataset(\n",
    "    name='project_1.dataset_1.table_2',\n",
    "    description='some text',\n",
    "    url='https://github.com/',\n",
    "    tags=['foo','barfoo'],\n",
    "    owners=['user2'],\n",
    "    custom_properties={'key':'value'},\n",
    "    glossary_terms=['TODO', 'active_user'],\n",
    "    upstream_datasets=['project_1.dataset_1.table_0'],\n",
    "    links={'google': 'https://www.google.com'}\n",
    ")\n",
    "\n",
    "# update dashboard\n",
    "emitter.update_dashboard(\n",
    "    name='mydashboard',\n",
    "    title='My Dashboard',\n",
    "    description='my lovely dashboard',\n",
    "    inputs=['project_1.dataset_1.table_1'],\n",
    "    tags=['todo'],\n",
    "    owners=['todo@fake.com'],\n",
    "    links={'google': 'https://www.google.com'}\n",
    ")"
   ]
  }
 ],
 "metadata": {
  "interpreter": {
   "hash": "7226eb9ca68a9bc4aea7fee0dd4cb06b718d5ceb7c6196a1d9247977fce61c18"
  },
  "kernelspec": {
   "display_name": "Python 3.8.5 64-bit ('learn-datahub-dIKgrtBw': virtualenv)",
   "language": "python",
   "name": "python3"
  },
  "language_info": {
   "codemirror_mode": {
    "name": "ipython",
    "version": 3
   },
   "file_extension": ".py",
   "mimetype": "text/x-python",
   "name": "python",
   "nbconvert_exporter": "python",
   "pygments_lexer": "ipython3",
   "version": "3.8.5"
  },
  "orig_nbformat": 4
 },
 "nbformat": 4,
 "nbformat_minor": 2
}
