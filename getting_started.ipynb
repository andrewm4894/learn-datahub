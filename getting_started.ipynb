{
 "cells": [
  {
   "cell_type": "code",
   "execution_count": 1,
   "metadata": {},
   "outputs": [],
   "source": [
    "import os\n",
    "from dotenv import load_dotenv\n",
    "from typing import List\n",
    "from datahub.emitter.mcp import MetadataChangeProposalWrapper\n",
    "import datahub.metadata.schema_classes as models\n",
    "import datahub.emitter.mce_builder as builder\n",
    "from datahub.emitter.rest_emitter import DatahubRestEmitter\n",
    "load_dotenv()\n",
    "\n",
    "datashub_gms_server = os.getenv('DATAHUB_GMS_SERVER')\n",
    "datahub_token = os.getenv('DATAHUB_TOKEN')\n",
    "datahub_actor = os.getenv('DATAHUB_ACTOR')\n",
    "datahub_env = 'DEV'\n"
   ]
  },
  {
   "cell_type": "code",
   "execution_count": 2,
   "metadata": {},
   "outputs": [
    {
     "ename": "OperationalError",
     "evalue": "('Unable to emit metadata to DataHub GMS', {'message': '401 Client Error: Unauthorized for url: https://netdata.acryl.io/gms/aspects?action=ingestProposal'})",
     "output_type": "error",
     "traceback": [
      "\u001b[0;31m---------------------------------------------------------------------------\u001b[0m",
      "\u001b[0;31mHTTPError\u001b[0m                                 Traceback (most recent call last)",
      "\u001b[0;32m~/.virtualenvs/learn-datahub-dIKgrtBw/lib/python3.8/site-packages/datahub/emitter/rest_emitter.py\u001b[0m in \u001b[0;36m_emit_generic\u001b[0;34m(self, url, payload)\u001b[0m\n\u001b[1;32m    183\u001b[0m \u001b[0;34m\u001b[0m\u001b[0m\n\u001b[0;32m--> 184\u001b[0;31m             \u001b[0mresponse\u001b[0m\u001b[0;34m.\u001b[0m\u001b[0mraise_for_status\u001b[0m\u001b[0;34m(\u001b[0m\u001b[0;34m)\u001b[0m\u001b[0;34m\u001b[0m\u001b[0;34m\u001b[0m\u001b[0m\n\u001b[0m\u001b[1;32m    185\u001b[0m         \u001b[0;32mexcept\u001b[0m \u001b[0mHTTPError\u001b[0m \u001b[0;32mas\u001b[0m \u001b[0me\u001b[0m\u001b[0;34m:\u001b[0m\u001b[0;34m\u001b[0m\u001b[0;34m\u001b[0m\u001b[0m\n",
      "\u001b[0;32m~/.virtualenvs/learn-datahub-dIKgrtBw/lib/python3.8/site-packages/requests/models.py\u001b[0m in \u001b[0;36mraise_for_status\u001b[0;34m(self)\u001b[0m\n\u001b[1;32m    952\u001b[0m         \u001b[0;32mif\u001b[0m \u001b[0mhttp_error_msg\u001b[0m\u001b[0;34m:\u001b[0m\u001b[0;34m\u001b[0m\u001b[0;34m\u001b[0m\u001b[0m\n\u001b[0;32m--> 953\u001b[0;31m             \u001b[0;32mraise\u001b[0m \u001b[0mHTTPError\u001b[0m\u001b[0;34m(\u001b[0m\u001b[0mhttp_error_msg\u001b[0m\u001b[0;34m,\u001b[0m \u001b[0mresponse\u001b[0m\u001b[0;34m=\u001b[0m\u001b[0mself\u001b[0m\u001b[0;34m)\u001b[0m\u001b[0;34m\u001b[0m\u001b[0;34m\u001b[0m\u001b[0m\n\u001b[0m\u001b[1;32m    954\u001b[0m \u001b[0;34m\u001b[0m\u001b[0m\n",
      "\u001b[0;31mHTTPError\u001b[0m: 401 Client Error: Unauthorized for url: https://netdata.acryl.io/gms/aspects?action=ingestProposal",
      "\nThe above exception was the direct cause of the following exception:\n",
      "\u001b[0;31mOperationalError\u001b[0m                          Traceback (most recent call last)",
      "\u001b[0;32m/tmp/ipykernel_2144/2646989714.py\u001b[0m in \u001b[0;36m<module>\u001b[0;34m\u001b[0m\n\u001b[1;32m     15\u001b[0m     )\n\u001b[1;32m     16\u001b[0m \u001b[0;34m\u001b[0m\u001b[0m\n\u001b[0;32m---> 17\u001b[0;31m emit_dataset_lineage(\n\u001b[0m\u001b[1;32m     18\u001b[0m     \u001b[0mdataset\u001b[0m\u001b[0;34m=\u001b[0m\u001b[0mbuilder\u001b[0m\u001b[0;34m.\u001b[0m\u001b[0mmake_dataset_urn\u001b[0m\u001b[0;34m(\u001b[0m\u001b[0;34m\"bigquery\"\u001b[0m\u001b[0;34m,\u001b[0m \u001b[0;34m\"tmp.table_b\"\u001b[0m\u001b[0;34m,\u001b[0m \u001b[0mdatahub_env\u001b[0m\u001b[0;34m)\u001b[0m\u001b[0;34m,\u001b[0m\u001b[0;34m\u001b[0m\u001b[0;34m\u001b[0m\u001b[0m\n\u001b[1;32m     19\u001b[0m     \u001b[0mupstream_datasets\u001b[0m\u001b[0;34m=\u001b[0m\u001b[0;34m[\u001b[0m\u001b[0mbuilder\u001b[0m\u001b[0;34m.\u001b[0m\u001b[0mmake_dataset_urn\u001b[0m\u001b[0;34m(\u001b[0m\u001b[0;34m\"bigquery\"\u001b[0m\u001b[0;34m,\u001b[0m \u001b[0;34m\"tmp.table_a\"\u001b[0m\u001b[0;34m,\u001b[0m \u001b[0mdatahub_env\u001b[0m\u001b[0;34m)\u001b[0m\u001b[0;34m]\u001b[0m\u001b[0;34m,\u001b[0m\u001b[0;34m\u001b[0m\u001b[0;34m\u001b[0m\u001b[0m\n",
      "\u001b[0;32m/tmp/ipykernel_2144/2646989714.py\u001b[0m in \u001b[0;36memit_dataset_lineage\u001b[0;34m(dataset, upstream_datasets, emitter)\u001b[0m\n\u001b[1;32m      7\u001b[0m         \u001b[0maspect\u001b[0m\u001b[0;34m=\u001b[0m\u001b[0mmodels\u001b[0m\u001b[0;34m.\u001b[0m\u001b[0mUpstreamLineageClass\u001b[0m\u001b[0;34m(\u001b[0m\u001b[0mupstreams\u001b[0m\u001b[0;34m=\u001b[0m\u001b[0;34m[\u001b[0m\u001b[0mmodels\u001b[0m\u001b[0;34m.\u001b[0m\u001b[0mUpstreamClass\u001b[0m\u001b[0;34m(\u001b[0m\u001b[0mdataset\u001b[0m\u001b[0;34m=\u001b[0m\u001b[0md\u001b[0m\u001b[0;34m,\u001b[0m \u001b[0mtype\u001b[0m\u001b[0;34m=\u001b[0m\u001b[0mmodels\u001b[0m\u001b[0;34m.\u001b[0m\u001b[0mDatasetLineageTypeClass\u001b[0m\u001b[0;34m.\u001b[0m\u001b[0mTRANSFORMED\u001b[0m\u001b[0;34m)\u001b[0m \u001b[0;32mfor\u001b[0m \u001b[0md\u001b[0m \u001b[0;32min\u001b[0m \u001b[0mupstream_datasets\u001b[0m\u001b[0;34m]\u001b[0m\u001b[0;34m)\u001b[0m\u001b[0;34m\u001b[0m\u001b[0;34m\u001b[0m\u001b[0m\n\u001b[1;32m      8\u001b[0m         )\n\u001b[0;32m----> 9\u001b[0;31m     \u001b[0memitter\u001b[0m\u001b[0;34m.\u001b[0m\u001b[0memit_mcp\u001b[0m\u001b[0;34m(\u001b[0m\u001b[0mmcp\u001b[0m\u001b[0;34m=\u001b[0m\u001b[0mmcpw\u001b[0m\u001b[0;34m)\u001b[0m\u001b[0;34m\u001b[0m\u001b[0;34m\u001b[0m\u001b[0m\n\u001b[0m\u001b[1;32m     10\u001b[0m \u001b[0;34m\u001b[0m\u001b[0m\n\u001b[1;32m     11\u001b[0m emitter = DatahubRestEmitter(\n",
      "\u001b[0;32m~/.virtualenvs/learn-datahub-dIKgrtBw/lib/python3.8/site-packages/datahub/emitter/rest_emitter.py\u001b[0m in \u001b[0;36memit_mcp\u001b[0;34m(self, mcp)\u001b[0m\n\u001b[1;32m    153\u001b[0m         \u001b[0mpayload\u001b[0m \u001b[0;34m=\u001b[0m \u001b[0mjson\u001b[0m\u001b[0;34m.\u001b[0m\u001b[0mdumps\u001b[0m\u001b[0;34m(\u001b[0m\u001b[0;34m{\u001b[0m\u001b[0;34m\"proposal\"\u001b[0m\u001b[0;34m:\u001b[0m \u001b[0mmcp_obj\u001b[0m\u001b[0;34m}\u001b[0m\u001b[0;34m)\u001b[0m\u001b[0;34m\u001b[0m\u001b[0;34m\u001b[0m\u001b[0m\n\u001b[1;32m    154\u001b[0m \u001b[0;34m\u001b[0m\u001b[0m\n\u001b[0;32m--> 155\u001b[0;31m         \u001b[0mself\u001b[0m\u001b[0;34m.\u001b[0m\u001b[0m_emit_generic\u001b[0m\u001b[0;34m(\u001b[0m\u001b[0murl\u001b[0m\u001b[0;34m,\u001b[0m \u001b[0mpayload\u001b[0m\u001b[0;34m)\u001b[0m\u001b[0;34m\u001b[0m\u001b[0;34m\u001b[0m\u001b[0m\n\u001b[0m\u001b[1;32m    156\u001b[0m \u001b[0;34m\u001b[0m\u001b[0m\n\u001b[1;32m    157\u001b[0m     \u001b[0;32mdef\u001b[0m \u001b[0memit_usage\u001b[0m\u001b[0;34m(\u001b[0m\u001b[0mself\u001b[0m\u001b[0;34m,\u001b[0m \u001b[0musageStats\u001b[0m\u001b[0;34m:\u001b[0m \u001b[0mUsageAggregation\u001b[0m\u001b[0;34m)\u001b[0m \u001b[0;34m->\u001b[0m \u001b[0;32mNone\u001b[0m\u001b[0;34m:\u001b[0m\u001b[0;34m\u001b[0m\u001b[0;34m\u001b[0m\u001b[0m\n",
      "\u001b[0;32m~/.virtualenvs/learn-datahub-dIKgrtBw/lib/python3.8/site-packages/datahub/emitter/rest_emitter.py\u001b[0m in \u001b[0;36m_emit_generic\u001b[0;34m(self, url, payload)\u001b[0m\n\u001b[1;32m    191\u001b[0m             \u001b[0;32mexcept\u001b[0m \u001b[0mJSONDecodeError\u001b[0m\u001b[0;34m:\u001b[0m\u001b[0;34m\u001b[0m\u001b[0;34m\u001b[0m\u001b[0m\n\u001b[1;32m    192\u001b[0m                 \u001b[0;31m# If we can't parse the JSON, just raise the original error.\u001b[0m\u001b[0;34m\u001b[0m\u001b[0;34m\u001b[0m\u001b[0;34m\u001b[0m\u001b[0m\n\u001b[0;32m--> 193\u001b[0;31m                 raise OperationalError(\n\u001b[0m\u001b[1;32m    194\u001b[0m                     \u001b[0;34m\"Unable to emit metadata to DataHub GMS\"\u001b[0m\u001b[0;34m,\u001b[0m \u001b[0;34m{\u001b[0m\u001b[0;34m\"message\"\u001b[0m\u001b[0;34m:\u001b[0m \u001b[0mstr\u001b[0m\u001b[0;34m(\u001b[0m\u001b[0me\u001b[0m\u001b[0;34m)\u001b[0m\u001b[0;34m}\u001b[0m\u001b[0;34m\u001b[0m\u001b[0;34m\u001b[0m\u001b[0m\n\u001b[1;32m    195\u001b[0m                 ) from e\n",
      "\u001b[0;31mOperationalError\u001b[0m: ('Unable to emit metadata to DataHub GMS', {'message': '401 Client Error: Unauthorized for url: https://netdata.acryl.io/gms/aspects?action=ingestProposal'})"
     ]
    }
   ],
   "source": [
    "def emit_dataset_lineage(dataset: str, upstream_datasets: List[str], emitter: DatahubRestEmitter):\n",
    "    mcpw = MetadataChangeProposalWrapper(\n",
    "        \"dataset\",\n",
    "        models.ChangeTypeClass.UPSERT,\n",
    "        entityUrn=dataset,\n",
    "        aspectName=\"upstreamLineage\",\n",
    "        aspect=models.UpstreamLineageClass(upstreams=[models.UpstreamClass(dataset=d, type=models.DatasetLineageTypeClass.TRANSFORMED) for d in upstream_datasets])\n",
    "        )\n",
    "    emitter.emit_mcp(mcp=mcpw)\n",
    "\n",
    "emitter = DatahubRestEmitter(\n",
    "    gms_server=datashub_gms_server, \n",
    "    token=datashub_gms_server, \n",
    "    extra_headers={'X-DataHub-Actor': datahub_actor}\n",
    "    )\n",
    "    \n",
    "emit_dataset_lineage(\n",
    "    dataset=builder.make_dataset_urn(\"bigquery\", \"tmp.table_b\", datahub_env), \n",
    "    upstream_datasets=[builder.make_dataset_urn(\"bigquery\", \"tmp.table_a\", datahub_env)],\n",
    "    emitter=emitter\n",
    ")"
   ]
  },
  {
   "cell_type": "code",
   "execution_count": null,
   "metadata": {},
   "outputs": [],
   "source": []
  },
  {
   "cell_type": "code",
   "execution_count": null,
   "metadata": {},
   "outputs": [],
   "source": []
  },
  {
   "cell_type": "code",
   "execution_count": null,
   "metadata": {},
   "outputs": [],
   "source": []
  }
 ],
 "metadata": {
  "interpreter": {
   "hash": "7226eb9ca68a9bc4aea7fee0dd4cb06b718d5ceb7c6196a1d9247977fce61c18"
  },
  "kernelspec": {
   "display_name": "Python 3.8.5 64-bit ('learn-datahub-dIKgrtBw': virtualenv)",
   "language": "python",
   "name": "python3"
  },
  "language_info": {
   "codemirror_mode": {
    "name": "ipython",
    "version": 3
   },
   "file_extension": ".py",
   "mimetype": "text/x-python",
   "name": "python",
   "nbconvert_exporter": "python",
   "pygments_lexer": "ipython3",
   "version": "3.8.5"
  },
  "orig_nbformat": 4
 },
 "nbformat": 4,
 "nbformat_minor": 2
}
