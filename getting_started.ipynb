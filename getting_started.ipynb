{
 "cells": [
  {
   "cell_type": "code",
   "execution_count": 1,
   "metadata": {},
   "outputs": [],
   "source": [
    "import os\n",
    "from dotenv import load_dotenv\n",
    "from typing import List\n",
    "from datahub.emitter.mcp import MetadataChangeProposalWrapper\n",
    "import datahub.metadata.schema_classes as models\n",
    "import datahub.emitter.mce_builder as builder\n",
    "from datahub.emitter.rest_emitter import DatahubRestEmitter\n",
    "load_dotenv()\n",
    "\n",
    "# replace .env_example with a file called .env and add your own environment variables into it.\n",
    "datashub_gms_server = os.getenv('DATAHUB_GMS_SERVER', '')\n",
    "datahub_token = os.getenv('DATAHUB_TOKEN', '')\n",
    "datahub_actor = os.getenv('DATAHUB_ACTOR', 'urn:li:corpuser:admin')\n",
    "\n",
    "# start by putting things into DEV to keep PROD clean until you know what you are doing\n",
    "datahub_env = 'DEV'"
   ]
  },
  {
   "cell_type": "markdown",
   "metadata": {},
   "source": [
    "### Create emitter"
   ]
  },
  {
   "cell_type": "code",
   "execution_count": 2,
   "metadata": {},
   "outputs": [],
   "source": [
    "# create an emitter\n",
    "emitter = DatahubRestEmitter(\n",
    "    gms_server=datashub_gms_server, \n",
    "    token=datahub_token, \n",
    "    extra_headers={'X-DataHub-Actor': datahub_actor}\n",
    ")"
   ]
  },
  {
   "cell_type": "markdown",
   "metadata": {},
   "source": [
    "### Create a tag"
   ]
  },
  {
   "cell_type": "code",
   "execution_count": 3,
   "metadata": {},
   "outputs": [],
   "source": [
    "# create a tag\n",
    "tag_name = 'healthy'\n",
    "tag_description = 'Healthy'\n",
    "mcpw = MetadataChangeProposalWrapper(\n",
    "    \"tag\",\n",
    "    models.ChangeTypeClass.UPSERT,\n",
    "    entityUrn=builder.make_tag_urn(tag_name),\n",
    "    aspectName=\"tagProperties\",\n",
    "    aspect=models.TagPropertiesClass(tag_name, tag_description)\n",
    ")\n",
    "emitter.emit_mcp(mcp=mcpw)"
   ]
  },
  {
   "cell_type": "markdown",
   "metadata": {},
   "source": [
    "### Create a user"
   ]
  },
  {
   "cell_type": "code",
   "execution_count": 4,
   "metadata": {},
   "outputs": [],
   "source": [
    "# create a user\n",
    "user_name = 'Joe Bloggs'\n",
    "user_email = 'joe.bloggs@fake.com'\n",
    "mcpw = MetadataChangeProposalWrapper(\n",
    "    \"corpUser\",\n",
    "    models.ChangeTypeClass.UPSERT,\n",
    "    entityUrn=builder.make_user_urn(username=user_name),\n",
    "    aspectName=\"corpUserInfo\",\n",
    "    aspect=models.CorpUserInfoClass(active=True, displayName=user_name, email=user_email)\n",
    ")\n",
    "emitter.emit_mcp(mcp=mcpw)"
   ]
  },
  {
   "cell_type": "markdown",
   "metadata": {},
   "source": [
    "### Create a dataset"
   ]
  },
  {
   "cell_type": "code",
   "execution_count": 5,
   "metadata": {},
   "outputs": [],
   "source": [
    "# create a dataset\n",
    "dataset_platform = 'bigquery'\n",
    "dataset_name = 'project_a.dataset_a.table_a'\n",
    "dataset_description = 'my great dataset'\n",
    "dataset_url = 'https://www.google.ie/'\n",
    "dataset_urn = builder.make_dataset_urn(platform=dataset_platform, name=dataset_name, env=datahub_env)\n",
    "mcpw = MetadataChangeProposalWrapper(\n",
    "    \"dataset\",\n",
    "    models.ChangeTypeClass.UPSERT,\n",
    "    entityUrn=dataset_urn,\n",
    "    aspectName=\"datasetProperties\",\n",
    "    aspect=models.DatasetPropertiesClass(description=dataset_description, externalUrl=dataset_url)\n",
    ")\n",
    "emitter.emit_mcp(mcp=mcpw)"
   ]
  },
  {
   "cell_type": "markdown",
   "metadata": {},
   "source": [
    "### Tag a dataset"
   ]
  },
  {
   "cell_type": "code",
   "execution_count": 6,
   "metadata": {},
   "outputs": [],
   "source": [
    "# tag dataset as 'healthy'\n",
    "mcpw = MetadataChangeProposalWrapper(\n",
    "    \"dataset\",\n",
    "    models.ChangeTypeClass.UPSERT,\n",
    "    entityUrn=builder.make_dataset_urn(platform=dataset_platform, name=dataset_name, env=datahub_env),\n",
    "    aspectName=\"globalTags\",\n",
    "    aspect=models.GlobalTagsClass(tags=[models.TagAssociationClass(builder.make_tag_urn('healthy'))])\n",
    ")\n",
    "emitter.emit_mcp(mcp=mcpw)"
   ]
  },
  {
   "cell_type": "markdown",
   "metadata": {},
   "source": [
    "### Add owner to a dataset"
   ]
  },
  {
   "cell_type": "code",
   "execution_count": 7,
   "metadata": {},
   "outputs": [],
   "source": [
    "# set dataset owner as \"Joe Blogss\"\n",
    "mcpw = MetadataChangeProposalWrapper(\n",
    "    \"dataset\",\n",
    "    models.ChangeTypeClass.UPSERT,\n",
    "    entityUrn=builder.make_dataset_urn(platform=dataset_platform, name=dataset_name, env=datahub_env),\n",
    "    aspectName=\"ownership\",\n",
    "    aspect=models.OwnershipClass(owners=[models.OwnerClass(builder.make_user_urn(user_name), type='DATAOWNER')])\n",
    ")\n",
    "emitter.emit_mcp(mcp=mcpw)"
   ]
  },
  {
   "cell_type": "markdown",
   "metadata": {},
   "source": [
    "### Add lineage to dataset"
   ]
  },
  {
   "cell_type": "code",
   "execution_count": 8,
   "metadata": {},
   "outputs": [],
   "source": [
    "# create upstream dataset\n",
    "dataset_platform_b = 'bigquery'\n",
    "dataset_name_b = 'project_a.dataset_a.table_b'\n",
    "dataset_description_b = 'my great dataset b'\n",
    "dataset_url_b = 'https://www.google.ie/'\n",
    "dataset_urn_b = builder.make_dataset_urn(platform=dataset_platform_b, name=dataset_name_b, env=datahub_env)\n",
    "mcpw = MetadataChangeProposalWrapper(\n",
    "    \"dataset\",\n",
    "    models.ChangeTypeClass.UPSERT,\n",
    "    entityUrn=dataset_urn_b,\n",
    "    aspectName=\"datasetProperties\",\n",
    "    aspect=models.DatasetPropertiesClass(description=dataset_description_b, externalUrl=dataset_url_b)\n",
    ")\n",
    "emitter.emit_mcp(mcp=mcpw)\n",
    "\n",
    "# create lineage\n",
    "upstream_datasets = [dataset_urn_b]\n",
    "mcpw = MetadataChangeProposalWrapper(\n",
    "    \"dataset\",\n",
    "    models.ChangeTypeClass.UPSERT,\n",
    "    entityUrn=dataset_urn,\n",
    "    aspectName=\"upstreamLineage\",\n",
    "    aspect=models.UpstreamLineageClass(upstreams=[models.UpstreamClass(dataset=d, type=models.DatasetLineageTypeClass.TRANSFORMED) for d in upstream_datasets])\n",
    "    )\n",
    "emitter.emit_mcp(mcp=mcpw)"
   ]
  },
  {
   "cell_type": "markdown",
   "metadata": {},
   "source": [
    "### Add link to a dataset"
   ]
  },
  {
   "cell_type": "code",
   "execution_count": 9,
   "metadata": {},
   "outputs": [],
   "source": [
    "# add a link to dataset\n",
    "#mcpw = MetadataChangeProposalWrapper(\n",
    "#    \"dataset\",\n",
    "#    models.ChangeTypeClass.UPSERT,\n",
    "#    entityUrn=builder.make_dataset_urn(platform=dataset_platform, name=dataset_name, env=datahub_env),\n",
    "#    aspectName=\"addLink\",\n",
    "#    aspect=??? TODO\n",
    "#)\n",
    "#emitter.emit_mcp(mcp=mcpw)"
   ]
  },
  {
   "cell_type": "code",
   "execution_count": null,
   "metadata": {},
   "outputs": [],
   "source": []
  },
  {
   "cell_type": "code",
   "execution_count": null,
   "metadata": {},
   "outputs": [],
   "source": []
  }
 ],
 "metadata": {
  "interpreter": {
   "hash": "7226eb9ca68a9bc4aea7fee0dd4cb06b718d5ceb7c6196a1d9247977fce61c18"
  },
  "kernelspec": {
   "display_name": "Python 3.8.5 64-bit ('learn-datahub-dIKgrtBw': virtualenv)",
   "language": "python",
   "name": "python3"
  },
  "language_info": {
   "codemirror_mode": {
    "name": "ipython",
    "version": 3
   },
   "file_extension": ".py",
   "mimetype": "text/x-python",
   "name": "python",
   "nbconvert_exporter": "python",
   "pygments_lexer": "ipython3",
   "version": "3.8.5"
  },
  "orig_nbformat": 4
 },
 "nbformat": 4,
 "nbformat_minor": 2
}
