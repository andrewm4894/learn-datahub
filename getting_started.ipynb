{
 "cells": [
  {
   "cell_type": "code",
   "execution_count": 1,
   "metadata": {},
   "outputs": [],
   "source": [
    "import os\n",
    "import time\n",
    "from dotenv import load_dotenv\n",
    "from typing import List\n",
    "from datahub.emitter.mcp import MetadataChangeProposalWrapper\n",
    "import datahub.metadata.schema_classes as models\n",
    "import datahub.emitter.mce_builder as builder\n",
    "from datahub.emitter.rest_emitter import DatahubRestEmitter\n",
    "load_dotenv()\n",
    "\n",
    "# replace .env_example with a file called .env and add your own environment variables into it.\n",
    "datashub_gms_server = os.getenv('DATAHUB_GMS_SERVER', '')\n",
    "datahub_token = os.getenv('DATAHUB_TOKEN', '')\n",
    "datahub_actor = os.getenv('DATAHUB_ACTOR', 'urn:li:corpuser:admin')\n",
    "\n",
    "# start by putting things into DEV to keep PROD clean until you know what you are doing\n",
    "datahub_env = 'DEV'"
   ]
  },
  {
   "cell_type": "markdown",
   "metadata": {},
   "source": [
    "### Create emitter\n",
    "\n",
    "We must first create a `DatahubRestEmitter` object we will use to emit our `MetadataChangeProposalWrapper` change proposals to."
   ]
  },
  {
   "cell_type": "code",
   "execution_count": 2,
   "metadata": {},
   "outputs": [],
   "source": [
    "# create an emitter\n",
    "emitter = DatahubRestEmitter(\n",
    "    gms_server=datashub_gms_server, \n",
    "    token=datahub_token, \n",
    "    extra_headers={'X-DataHub-Actor': datahub_actor}\n",
    ")"
   ]
  },
  {
   "cell_type": "markdown",
   "metadata": {},
   "source": [
    "### Create some tags\n",
    "\n",
    "Lets define a dictionary of tags with some key and values defined for each tag."
   ]
  },
  {
   "cell_type": "code",
   "execution_count": 3,
   "metadata": {},
   "outputs": [],
   "source": [
    "# create some tags\n",
    "tags = {\n",
    "    'healthy': {'description': 'This resource is healthy'}, \n",
    "    'failing': {'description': 'This resource is failing'},\n",
    "    'production': {'description': 'This resource is considered production grade'},\n",
    "    'dev': {'description': 'This resource is considered development grade'},\n",
    "    }\n",
    "\n",
    "# create each tag\n",
    "for tag in tags:\n",
    "    \n",
    "    mcpw = MetadataChangeProposalWrapper(\n",
    "        \"tag\",\n",
    "        models.ChangeTypeClass.UPSERT,\n",
    "        entityUrn=builder.make_tag_urn(tag),\n",
    "        aspectName=\"tagProperties\",\n",
    "        aspect=models.TagPropertiesClass(\n",
    "            name=tag, \n",
    "            description=tags[tag].get('description')\n",
    "            )\n",
    "    )\n",
    "    emitter.emit_mcp(mcp=mcpw)"
   ]
  },
  {
   "cell_type": "markdown",
   "metadata": {},
   "source": [
    "![tags](https://raw.githubusercontent.com/andrewm4894/learn-datahub/main/images/tags.png)"
   ]
  },
  {
   "cell_type": "markdown",
   "metadata": {},
   "source": [
    "### Create some glossary terms\n",
    "\n",
    "Lets create some glossary terms we can associate with various entities."
   ]
  },
  {
   "cell_type": "code",
   "execution_count": 4,
   "metadata": {},
   "outputs": [],
   "source": [
    "# create some glossary terms\n",
    "\n",
    "glossary_terms = {\n",
    "    'active user': {'definition': 'A user who has logged in in last 30d.', 'source': 'INTERNEAL'},\n",
    "    'inactive user': {'definition': 'A user who has not logged in in last 90d.', 'source': 'INTERNEAL'},\n",
    "}\n",
    "\n",
    "# create each term\n",
    "for glossary_term in glossary_terms:\n",
    "    \n",
    "    mcpw = MetadataChangeProposalWrapper(\n",
    "        \"glossaryTerm\",\n",
    "        models.ChangeTypeClass.UPSERT,\n",
    "        entityUrn=f'urn:li:glossaryTerm:{glossary_term}',\n",
    "        aspectName=\"glossaryTermInfo\",\n",
    "        aspect=models.GlossaryTermInfoClass(\n",
    "            definition=glossary_terms[glossary_term].get('definition'), \n",
    "            termSource=glossary_terms[glossary_term].get('source')\n",
    "            )\n",
    "    )\n",
    "    emitter.emit_mcp(mcp=mcpw)"
   ]
  },
  {
   "cell_type": "markdown",
   "metadata": {},
   "source": [
    "![glossary_terms](https://raw.githubusercontent.com/andrewm4894/learn-datahub/main/images/glossary_terms.png)"
   ]
  },
  {
   "cell_type": "markdown",
   "metadata": {},
   "source": [
    "### Create some users"
   ]
  },
  {
   "cell_type": "code",
   "execution_count": 5,
   "metadata": {},
   "outputs": [],
   "source": [
    "# create some users\n",
    "\n",
    "users = {\n",
    "    'Joe Bloggs': {'display_name': 'Joe Bloggs', 'email': 'joe.bloggs@fake.com', 'active': True},\n",
    "    'Dummy User': {'display_name': 'Dummy User', 'email': 'dummy.user@fake.com', 'active': True},\n",
    "}\n",
    "\n",
    "# create each user\n",
    "for user in users:\n",
    "    \n",
    "    mcpw = MetadataChangeProposalWrapper(\n",
    "        \"corpUser\",\n",
    "        models.ChangeTypeClass.UPSERT,\n",
    "        entityUrn=builder.make_user_urn(username=user),\n",
    "        aspectName=\"corpUserInfo\",\n",
    "        aspect=models.CorpUserInfoClass(\n",
    "            displayName=users[user].get('display_name'), \n",
    "            email=users[user].get('email'),\n",
    "            active=users[user].get('active')\n",
    "            )\n",
    "    )\n",
    "    emitter.emit_mcp(mcp=mcpw)"
   ]
  },
  {
   "cell_type": "markdown",
   "metadata": {},
   "source": [
    "![user](https://raw.githubusercontent.com/andrewm4894/learn-datahub/main/images/user.png)"
   ]
  },
  {
   "cell_type": "markdown",
   "metadata": {},
   "source": [
    "### Create some dataset's\n",
    "\n",
    "Lets create 3 datasets that we will manually string together via upstream lineages later in the notebook."
   ]
  },
  {
   "cell_type": "code",
   "execution_count": 6,
   "metadata": {},
   "outputs": [],
   "source": [
    "# create some datasets\n",
    "dataset_platform = 'bigquery'\n",
    "\n",
    "# note: we will add some attributes like 'tags' to use later.\n",
    "\n",
    "datasets = {\n",
    "    'project_a.dataset_a.table_1' : {\n",
    "        'description': 'my great dataset 1', \n",
    "        'url': 'https://netdata.cloud/', \n",
    "        'platform': dataset_platform, \n",
    "        'env': datahub_env, \n",
    "        'tags': ['healthy', 'production'],\n",
    "        'owners': ['Joe Bloggs', 'Dummy User'],\n",
    "        'glossary terms': ['active user'],\n",
    "        'properties': {'foo': 'bar', 'key': 'value'},\n",
    "        'upstream datasets': []\n",
    "        },\n",
    "    'project_a.dataset_a.table_2' : {\n",
    "        'description': 'my great dataset 2', \n",
    "        'url': 'https://netdata.cloud/', \n",
    "        'platform': dataset_platform, \n",
    "        'env': datahub_env, \n",
    "        'tags': ['failing', 'dev'],\n",
    "        'owners': ['Dummy User'],\n",
    "        'glossary terms': ['active user'],\n",
    "        'properties': {'foo': 'bar', 'key': 'value'},\n",
    "        'upstream datasets': ['project_a.dataset_a.table_1']\n",
    "        },\n",
    "    'project_a.dataset_a.table_3' : {\n",
    "        'description': 'my great dataset 3', \n",
    "        'url': 'https://netdata.cloud/', \n",
    "        'platform': dataset_platform, \n",
    "        'env': datahub_env, \n",
    "        'tags': ['failing', 'production'],\n",
    "        'owners': ['Joe Bloggs'],\n",
    "        'glossary terms': ['inactive user'],\n",
    "        'properties': {'foo': 'bar', 'key': 'value'},\n",
    "        'upstream datasets': ['project_a.dataset_a.table_2']\n",
    "        },\n",
    "}\n",
    "\n",
    "# make each dataset\n",
    "for dataset in datasets:\n",
    "    \n",
    "    mcpw = MetadataChangeProposalWrapper(\n",
    "        \"dataset\",\n",
    "        models.ChangeTypeClass.UPSERT,\n",
    "        entityUrn=builder.make_dataset_urn(\n",
    "            platform=datasets[dataset].get('platform'), \n",
    "            name=dataset, \n",
    "            env=datasets[dataset].get('env')\n",
    "            ),\n",
    "        aspectName=\"datasetProperties\",\n",
    "        aspect=models.DatasetPropertiesClass(\n",
    "            description=datasets[dataset].get('description'), \n",
    "            externalUrl=datasets[dataset].get('url')\n",
    "            )\n",
    "    )\n",
    "    emitter.emit_mcp(mcp=mcpw)"
   ]
  },
  {
   "cell_type": "markdown",
   "metadata": {},
   "source": [
    "![dataset](https://raw.githubusercontent.com/andrewm4894/learn-datahub/main/images/dataset.png)"
   ]
  },
  {
   "cell_type": "markdown",
   "metadata": {},
   "source": [
    "### Create some charts"
   ]
  },
  {
   "cell_type": "code",
   "execution_count": 19,
   "metadata": {},
   "outputs": [],
   "source": [
    "# create some charts\n",
    "chart_platform = 'datastudio'\n",
    "\n",
    "# note: we will add some attributes like 'tags' to use later.\n",
    "\n",
    "charts = {\n",
    "    'chart_1' : {\n",
    "        'title': 'chart 1',\n",
    "        'description': 'lovely chart 1', \n",
    "        'url': 'https://netdata.cloud/', \n",
    "        'platform': chart_platform, \n",
    "        'tags': ['healthy', 'production'],\n",
    "        'owners': ['Joe Bloggs', 'Dummy User'],\n",
    "        'glossary terms': ['active user'],\n",
    "        'properties': {'foo': 'bar', 'key': 'value'},\n",
    "        'upstream datasets': []\n",
    "        },\n",
    "    'chart_2' : {\n",
    "        'title': 'chart 2',\n",
    "        'description': 'my great chart 2', \n",
    "        'url': 'https://netdata.cloud/', \n",
    "        'platform': chart_platform, \n",
    "        'tags': ['failing', 'dev'],\n",
    "        'owners': ['Dummy User'],\n",
    "        'glossary terms': ['active user'],\n",
    "        'properties': {'foo': 'bar', 'key': 'value'},\n",
    "        'upstream datasets': ['project_a.dataset_a.table_1']\n",
    "        },\n",
    "    'chart_3' : {\n",
    "        'title': 'chart 3',\n",
    "        'description': 'my great chart 3', \n",
    "        'url': 'https://netdata.cloud/', \n",
    "        'platform': chart_platform, \n",
    "        'tags': ['failing', 'production'],\n",
    "        'owners': ['Joe Bloggs'],\n",
    "        'glossary terms': ['inactive user'],\n",
    "        'properties': {'foo': 'bar', 'key': 'value'},\n",
    "        'upstream datasets': ['project_a.dataset_a.table_2']\n",
    "        },\n",
    "}\n",
    "\n",
    "# make each chart\n",
    "for chart in charts:\n",
    "    \n",
    "    mcpw = MetadataChangeProposalWrapper(\n",
    "        \"chart\",\n",
    "        models.ChangeTypeClass.UPSERT,\n",
    "        entityUrn=builder.make_chart_urn(\n",
    "            platform=charts[chart].get('platform'), \n",
    "            name=chart\n",
    "        ),\n",
    "        aspectName=\"chartInfo\",\n",
    "        aspect=models.ChartInfoClass(\n",
    "            title=charts[chart].get('title'),\n",
    "            description=charts[chart].get('description'), \n",
    "            lastModified=models.ChangeAuditStampsClass(\n",
    "                created=models.AuditStampClass(\n",
    "                    time=int(time.time()),\n",
    "                    actor=datahub_actor\n",
    "                )\n",
    "            )\n",
    "        )\n",
    "    )\n",
    "    emitter.emit_mcp(mcp=mcpw)"
   ]
  },
  {
   "cell_type": "markdown",
   "metadata": {},
   "source": [
    "![charts](https://raw.githubusercontent.com/andrewm4894/learn-datahub/main/images/charts.png)"
   ]
  },
  {
   "cell_type": "markdown",
   "metadata": {},
   "source": [
    "### Add tags to datasets\n",
    "\n",
    "Lets use the tags we defined for each dataset."
   ]
  },
  {
   "cell_type": "code",
   "execution_count": 7,
   "metadata": {},
   "outputs": [],
   "source": [
    "# for each dataset\n",
    "for dataset in datasets:\n",
    "    \n",
    "    # add tags\n",
    "    mcpw = MetadataChangeProposalWrapper(\n",
    "        \"dataset\",\n",
    "        models.ChangeTypeClass.UPSERT,\n",
    "        entityUrn=builder.make_dataset_urn(\n",
    "            platform=datasets[dataset].get('platform'), \n",
    "            name=dataset, \n",
    "            env=datasets[dataset].get('env')\n",
    "            ),\n",
    "        aspectName=\"globalTags\",\n",
    "        aspect=models.GlobalTagsClass(tags=[models.TagAssociationClass(builder.make_tag_urn(tag)) for tag in datasets[dataset].get('tags',[])])\n",
    "    )\n",
    "    emitter.emit_mcp(mcp=mcpw)"
   ]
  },
  {
   "cell_type": "markdown",
   "metadata": {},
   "source": [
    "![dataset_tags](https://raw.githubusercontent.com/andrewm4894/learn-datahub/main/images/dataset_tags.png)"
   ]
  },
  {
   "cell_type": "markdown",
   "metadata": {},
   "source": [
    "### Add owners to datasets"
   ]
  },
  {
   "cell_type": "code",
   "execution_count": 8,
   "metadata": {},
   "outputs": [],
   "source": [
    "# for each dataset\n",
    "for dataset in datasets:\n",
    "\n",
    "    # add owners\n",
    "    mcpw = MetadataChangeProposalWrapper(\n",
    "        \"dataset\",\n",
    "        models.ChangeTypeClass.UPSERT,\n",
    "        entityUrn=builder.make_dataset_urn(\n",
    "            platform=datasets[dataset].get('platform'), \n",
    "            name=dataset, \n",
    "            env=datasets[dataset].get('env')\n",
    "            ),\n",
    "        aspectName=\"ownership\",\n",
    "        aspect=models.OwnershipClass(\n",
    "            owners=[\n",
    "                models.OwnerClass(builder.make_user_urn(owner), type='DATAOWNER') \n",
    "                for owner in datasets[dataset].get('owners', [])\n",
    "                ]\n",
    "            )\n",
    "    )\n",
    "    emitter.emit_mcp(mcp=mcpw)"
   ]
  },
  {
   "cell_type": "markdown",
   "metadata": {},
   "source": [
    "![dataset_owners](https://raw.githubusercontent.com/andrewm4894/learn-datahub/main/images/dataset_owners.png)"
   ]
  },
  {
   "cell_type": "markdown",
   "metadata": {},
   "source": [
    "### Add glossary terms to datasets"
   ]
  },
  {
   "cell_type": "code",
   "execution_count": 9,
   "metadata": {},
   "outputs": [],
   "source": [
    "# add glossary terms for each dataset\n",
    "for dataset in datasets:\n",
    "\n",
    "    # add glossary terms\n",
    "    mcpw = MetadataChangeProposalWrapper(\n",
    "        \"dataset\",\n",
    "        models.ChangeTypeClass.UPSERT,\n",
    "        entityUrn=builder.make_dataset_urn(\n",
    "            platform=datasets[dataset].get('platform'), \n",
    "            name=dataset, \n",
    "            env=datasets[dataset].get('env')\n",
    "            ),\n",
    "        aspectName=\"glossaryTerms\",\n",
    "        aspect=models.GlossaryTermsClass(\n",
    "            terms=[\n",
    "                models.GlossaryTermAssociationClass(f'urn:li:glossaryTerm:{term}') \n",
    "                for term in datasets[dataset].get('glossary terms', [])\n",
    "                ], \n",
    "            auditStamp=models.AuditStampClass(time=int(time.time()), actor=datahub_actor)\n",
    "            )\n",
    "    )\n",
    "    emitter.emit_mcp(mcp=mcpw)\n"
   ]
  },
  {
   "cell_type": "markdown",
   "metadata": {},
   "source": [
    "![dataset_glossary_terms](https://raw.githubusercontent.com/andrewm4894/learn-datahub/main/images/dataset_glossary_terms.png)"
   ]
  },
  {
   "cell_type": "markdown",
   "metadata": {},
   "source": [
    "### Add properties to datasets"
   ]
  },
  {
   "cell_type": "code",
   "execution_count": 10,
   "metadata": {},
   "outputs": [],
   "source": [
    "# for each dataset\n",
    "for dataset in datasets:\n",
    "\n",
    "    # add the properties\n",
    "    mcpw = MetadataChangeProposalWrapper(\n",
    "        \"dataset\",\n",
    "        models.ChangeTypeClass.UPSERT,\n",
    "        entityUrn=builder.make_dataset_urn(\n",
    "            platform=datasets[dataset].get('platform'), \n",
    "            name=dataset, \n",
    "            env=datasets[dataset].get('env')\n",
    "            ),\n",
    "        aspectName=\"datasetProperties\",\n",
    "        aspect=models.DatasetPropertiesClass(\n",
    "            customProperties=datasets[dataset].get('properties', {})\n",
    "            )\n",
    "    )\n",
    "    emitter.emit_mcp(mcp=mcpw)"
   ]
  },
  {
   "cell_type": "markdown",
   "metadata": {},
   "source": [
    "![dataset_properties](https://raw.githubusercontent.com/andrewm4894/learn-datahub/main/images/dataset_properties.png)"
   ]
  },
  {
   "cell_type": "markdown",
   "metadata": {},
   "source": [
    "### Add upstream lineages to datasets"
   ]
  },
  {
   "cell_type": "code",
   "execution_count": 11,
   "metadata": {},
   "outputs": [],
   "source": [
    "for dataset in datasets:\n",
    "\n",
    "    mcpw = MetadataChangeProposalWrapper(\n",
    "        \"dataset\",\n",
    "        models.ChangeTypeClass.UPSERT,\n",
    "        entityUrn=builder.make_dataset_urn(\n",
    "            platform=datasets[dataset].get('platform'), \n",
    "            name=dataset, \n",
    "            env=datasets[dataset].get('env')\n",
    "            ),\n",
    "        aspectName=\"upstreamLineage\",\n",
    "        aspect=models.UpstreamLineageClass(\n",
    "            upstreams=[\n",
    "                models.UpstreamClass(\n",
    "                    dataset=builder.make_dataset_urn(\n",
    "                        platform=datasets[dataset].get('platform'), \n",
    "                        name=dataset, \n",
    "                        env=datasets[dataset].get('env')\n",
    "                        ), \n",
    "                    type=models.DatasetLineageTypeClass.TRANSFORMED\n",
    "                    ) \n",
    "                for dataset in datasets[dataset].get('upstream datasets', [])\n",
    "            ]\n",
    "        )\n",
    "    )\n",
    "    emitter.emit_mcp(mcp=mcpw)"
   ]
  },
  {
   "cell_type": "markdown",
   "metadata": {},
   "source": [
    "![dataset_lineage](https://raw.githubusercontent.com/andrewm4894/learn-datahub/main/images/dataset_lineage.png)"
   ]
  },
  {
   "cell_type": "markdown",
   "metadata": {},
   "source": [
    "### Add link to a dataset"
   ]
  },
  {
   "cell_type": "code",
   "execution_count": 12,
   "metadata": {},
   "outputs": [],
   "source": [
    "# add a link to dataset\n",
    "#mcpw = MetadataChangeProposalWrapper(\n",
    "#    \"dataset\",\n",
    "#    models.ChangeTypeClass.UPSERT,\n",
    "#    entityUrn=builder.make_dataset_urn(platform=dataset_platform, name=dataset_name, env=datahub_env),\n",
    "#    aspectName=\"addLink\",\n",
    "#    aspect=??? TODO\n",
    "#)\n",
    "#emitter.emit_mcp(mcp=mcpw)"
   ]
  }
 ],
 "metadata": {
  "interpreter": {
   "hash": "7226eb9ca68a9bc4aea7fee0dd4cb06b718d5ceb7c6196a1d9247977fce61c18"
  },
  "kernelspec": {
   "display_name": "Python 3.8.5 64-bit ('learn-datahub-dIKgrtBw': virtualenv)",
   "language": "python",
   "name": "python3"
  },
  "language_info": {
   "codemirror_mode": {
    "name": "ipython",
    "version": 3
   },
   "file_extension": ".py",
   "mimetype": "text/x-python",
   "name": "python",
   "nbconvert_exporter": "python",
   "pygments_lexer": "ipython3",
   "version": "3.8.5"
  },
  "orig_nbformat": 4
 },
 "nbformat": 4,
 "nbformat_minor": 2
}
